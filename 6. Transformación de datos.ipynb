{
 "cells": [
  {
   "cell_type": "markdown",
   "metadata": {},
   "source": [
    "# Tansformación de datos\n",
    "\n",
    "Alan Badillo Salas (badillo@hotmail.com)\n",
    "\n",
    "El mapeo de datos consiste en convertir una lista en otra lista de igual tamaño, dónde cada elemento de la primer lista se transforma en otro elemento dada una función de transformación. Dicha función de transformación recibe un elemento a transformar y devuelve el elemento transformado, a esta función la vamos a nombrar el `transformador` o la `función de transformación`.\n",
    "\n",
    "El \"mapeador\" se considera que es un `funcional` o `aplicador` que recibe como primer parámetro la *función de transformación* (el *transformador*) y como segundo parámetro la lista (o vector) a transformar. Este recorrerá elemento por elemento y para cada elemento obtendrá el elemento transformado y lo irá colocando en una nueva lista, al final, cada elemento de la lista original quedará transformado en una nueva lista.\n",
    "\n",
    "Por ejemplo, imagina que tenemos una lista de números y definimos una función de transformación que dado un número lo eleva al cuadrado, entonces si la lista de entrada fuera `[1, 2, 3, 4, 5]` la lista resultante sería `[1, 4, 9, 16, 25]`.\n",
    "\n",
    "Veamos como funciona:"
   ]
  },
  {
   "cell_type": "code",
   "execution_count": 6,
   "metadata": {},
   "outputs": [
    {
     "name": "stdout",
     "output_type": "stream",
     "text": [
      "A: [1, 2, 3, 4, 5, 6, 7, 8, 9, 10]\n",
      "B: [1, 4, 9, 16, 25, 36, 49, 64, 81, 100]\n"
     ]
    }
   ],
   "source": [
    "# A - Es una lista de números\n",
    "A = [1, 2, 3, 4, 5, 6, 7, 8, 9, 10]\n",
    "\n",
    "# T - Es la función de transformación que recibe un número `x`\n",
    "# y devuelve el número `x` elevado al cuadrado\n",
    "def T(x):\n",
    "    return x ** 2\n",
    "\n",
    "# B - Es la lista generada a partir del mapeo de la función de\n",
    "# transformación `T` aplicada a la lista `A`\n",
    "B = list(map(T, A))\n",
    "\n",
    "print(\"A: {}\".format(A))\n",
    "print(\"B: {}\".format(B))"
   ]
  },
  {
   "cell_type": "markdown",
   "metadata": {},
   "source": [
    "Cuándo las funciones son sencillas, es decir, sólo devuelven resultados de operaciones aritméticas, podemos definir la función en una sóla línea de código a través de un `lambda`. La función `lambda` toma el parámetro de entrada y devuelve las operaciones de salida."
   ]
  },
  {
   "cell_type": "code",
   "execution_count": 7,
   "metadata": {},
   "outputs": [
    {
     "name": "stdout",
     "output_type": "stream",
     "text": [
      "A: [1, 2, 3, 4, 5, 6, 7, 8, 9, 10]\n",
      "B: [1, 4, 9, 16, 25, 36, 49, 64, 81, 100]\n"
     ]
    }
   ],
   "source": [
    "A = [1, 2, 3, 4, 5, 6, 7, 8, 9, 10]\n",
    "\n",
    "# T - Es la función de transformación generada a partir\n",
    "# de una función `lambda` que toma a `x` y devuelve `x ** 2`\n",
    "T = lambda x: x ** 2\n",
    "\n",
    "B = list(map(T, A))\n",
    "\n",
    "print(\"A: {}\".format(A))\n",
    "print(\"B: {}\".format(B))"
   ]
  },
  {
   "cell_type": "markdown",
   "metadata": {},
   "source": [
    "Las funciones `lambda` nos permiten generar mapeos rápidos (en el sentido de escritura), para definir las funciones de transformación directamente en el mapeo."
   ]
  },
  {
   "cell_type": "code",
   "execution_count": null,
   "metadata": {},
   "outputs": [],
   "source": [
    "A = [1, 2, 3, 4, 5, 6, 7, 8, 9, 10]\n",
    "\n",
    "B = list(map(lambda x: x ** 2, A))\n",
    "\n",
    "print(\"A: {}\".format(A))\n",
    "print(\"B: {}\".format(B))"
   ]
  },
  {
   "cell_type": "markdown",
   "metadata": {},
   "source": [
    "Si las funciones de transformación son bien conocidas, merecen la pena almacenarlas en variables o funciones nombradas con una gramática inteligente.\n",
    "\n",
    "Por ejemplo, imagina que queremos obtener una transformación que nos indique si los elementos son positivos o negativos. Ej. dado `[1, -1, 2, 19, -20, -6]` obtener `[\"POSITIVO\", \"NEGATIVO\", \"POSITIVO\", \"POSITIVO\", \"NEGATIVO\", \"NEGATIVO\"]`."
   ]
  },
  {
   "cell_type": "code",
   "execution_count": 12,
   "metadata": {},
   "outputs": [
    {
     "data": {
      "text/plain": [
       "['POSITIVO', 'NEGATIVO', 'POSITIVO', 'POSITIVO', 'NEGATIVO', 'NEGATIVO']"
      ]
     },
     "execution_count": 12,
     "metadata": {},
     "output_type": "execute_result"
    }
   ],
   "source": [
    "EtiquetaPositivoNegativo = lambda x: \"POSITIVO\" if x >= 0 else \"NEGATIVO\"\n",
    "\n",
    "A = [1, -1, 2, 19, -20, -6]\n",
    "\n",
    "B = list(map(EtiquetaPositivoNegativo, A))\n",
    "\n",
    "B"
   ]
  },
  {
   "cell_type": "markdown",
   "metadata": {},
   "source": [
    "En una versión menos complicada podríamos no optar por usar lambdas."
   ]
  },
  {
   "cell_type": "code",
   "execution_count": null,
   "metadata": {},
   "outputs": [],
   "source": [
    "def EtiquetaPositivoNegativo(x):\n",
    "    if x >= 0:\n",
    "        return \"POSITIVO\"\n",
    "    else:\n",
    "        return \"NEGATIVO\"\n",
    "\n",
    "A = [1, -1, 2, 19, -20, -6]\n",
    "\n",
    "B = list(map(EtiquetaPositivoNegativo, A))\n",
    "\n",
    "B"
   ]
  },
  {
   "cell_type": "markdown",
   "metadata": {},
   "source": [
    "A veces va a ser buena idea tener una función que nos regrese otra función, esto se conoce como un decorador.\n",
    "\n",
    "Imagina el caso en que queramos una función que transforme a nuestros números multiplicándolos por un escalar, sin embargo, queremos que ese escalar se pueda modificar.\n",
    "\n",
    "Este problema involucra generar una función que nos devuelva un número `x` multiplicado por un escalar `s`. Para lograr esto, vamos a definir una función que se llame `EscaladorMapper(s)` que reciba el escalar `s` y nos vuelva el `mapper` con la transformación correcta para que cada `x` se mapee `x * s`."
   ]
  },
  {
   "cell_type": "code",
   "execution_count": 13,
   "metadata": {},
   "outputs": [
    {
     "data": {
      "text/plain": [
       "[10, 20, 30, 40, 50, 60, 70, 80, 90, 100]"
      ]
     },
     "execution_count": 13,
     "metadata": {},
     "output_type": "execute_result"
    }
   ],
   "source": [
    "def EscaladorMapper(s):\n",
    "    return lambda x: x * s\n",
    "\n",
    "A = [1, 2, 3, 4, 5, 6, 7, 8, 9, 10]\n",
    "\n",
    "B = list(map(EscaladorMapper(10), A))\n",
    "\n",
    "B"
   ]
  },
  {
   "cell_type": "code",
   "execution_count": 14,
   "metadata": {},
   "outputs": [
    {
     "data": {
      "text/plain": [
       "[10, 40, 30, 50, 60, 20, 70, 90, 80]"
      ]
     },
     "execution_count": 14,
     "metadata": {},
     "output_type": "execute_result"
    }
   ],
   "source": [
    "A = [1, 4, 3, 5, 6, 2, 7, 9, 8]\n",
    "\n",
    "B = list(map(EscaladorMapper(10), A))\n",
    "\n",
    "B"
   ]
  },
  {
   "cell_type": "markdown",
   "metadata": {},
   "source": [
    "Observa que la función `EscaladorMapper` recibe un escalar `s` y devuelve otra función que hace uso de el parámetro `s`, esta segunda función es nuestro `mapper` que será utilizado para aplicar el mapeo.\n",
    "\n",
    "En forma extensa, podemos visualizar el mismo ejemplo paso por paso."
   ]
  },
  {
   "cell_type": "code",
   "execution_count": 15,
   "metadata": {},
   "outputs": [
    {
     "data": {
      "text/plain": [
       "[10, 20, 30]"
      ]
     },
     "execution_count": 15,
     "metadata": {},
     "output_type": "execute_result"
    }
   ],
   "source": [
    "# Definimos una función capaz de generar otra función con parámetros extra\n",
    "# Está función `EscaladorMapper` se conoce como un decorador.\n",
    "def EscaladorMapper(s):\n",
    "    return lambda x: x * s\n",
    "\n",
    "# Creamos una función de transformación (un transformador o `mapper`)\n",
    "# El cuál dada una `x` la multiplica 10 veces\n",
    "# Esto a partir de la generación del mapeador mediante `EscaladorMapper`\n",
    "T = EscaladorMapper(10)\n",
    "\n",
    "A = [1, 2, 3]\n",
    "\n",
    "# Aplicamos el transformador T (creado del `EscaladorMapper`)\n",
    "# y transformamos cada valor de A multiplicado 10-veces\n",
    "B = list(map(T, A))\n",
    "\n",
    "B"
   ]
  },
  {
   "cell_type": "markdown",
   "metadata": {},
   "source": [
    "Veamos otro ejemplo dónde creamos un linealizador de datos basados en una pendiente y un interceptor. Es decir, dada una `x` queremos generar `m * x + b`, dónde `m` y `b` son parámetros modificables."
   ]
  },
  {
   "cell_type": "code",
   "execution_count": 16,
   "metadata": {},
   "outputs": [
    {
     "data": {
      "text/plain": [
       "[6, 8, 10, 12, 14, 16, 18, 20, 22, 24]"
      ]
     },
     "execution_count": 16,
     "metadata": {},
     "output_type": "execute_result"
    }
   ],
   "source": [
    "def linealizador(m, b):\n",
    "    return lambda x: m * x + b\n",
    "\n",
    "A = [1, 2, 3, 4, 5, 6, 7, 8, 9, 10]\n",
    "\n",
    "B = list(map(linealizador(2, 4), A))\n",
    "\n",
    "B"
   ]
  },
  {
   "cell_type": "markdown",
   "metadata": {},
   "source": [
    "Observa que el linealizador que intercepta a 0, es un escalador."
   ]
  },
  {
   "cell_type": "code",
   "execution_count": 17,
   "metadata": {},
   "outputs": [
    {
     "data": {
      "text/plain": [
       "[10, 20, 30, 40, 50, 60, 70, 80, 90, 100]"
      ]
     },
     "execution_count": 17,
     "metadata": {},
     "output_type": "execute_result"
    }
   ],
   "source": [
    "A = [1, 2, 3, 4, 5, 6, 7, 8, 9, 10]\n",
    "\n",
    "B = list(map(linealizador(10, 0), A))\n",
    "\n",
    "B"
   ]
  },
  {
   "cell_type": "markdown",
   "metadata": {},
   "source": [
    "Observa que el linealizador con pendiente 1 e interceptor `a` equivale a una suma que recorrecore `a`-veces el número original."
   ]
  },
  {
   "cell_type": "code",
   "execution_count": 19,
   "metadata": {},
   "outputs": [
    {
     "data": {
      "text/plain": [
       "[6, 7, 8, 9, 10, 11, 12, 13, 14, 15]"
      ]
     },
     "execution_count": 19,
     "metadata": {},
     "output_type": "execute_result"
    }
   ],
   "source": [
    "A = [1, 2, 3, 4, 5, 6, 7, 8, 9, 10]\n",
    "\n",
    "B = list(map(linealizador(1, 5), A))\n",
    "\n",
    "B"
   ]
  },
  {
   "cell_type": "code",
   "execution_count": 20,
   "metadata": {},
   "outputs": [
    {
     "data": {
      "text/plain": [
       "[0, 0, 0, 0, 0, 0, 0, 0, 0, 0]"
      ]
     },
     "execution_count": 20,
     "metadata": {},
     "output_type": "execute_result"
    }
   ],
   "source": [
    "A = [1, 2, 3, 4, 5, 6, 7, 8, 9, 10]\n",
    "\n",
    "B = list(map(linealizador(0, 0), A))\n",
    "\n",
    "B"
   ]
  },
  {
   "cell_type": "markdown",
   "metadata": {},
   "source": [
    "## Tarea 3\n",
    "\n",
    "Definir una función decoradora de mapeos para la normalización de datos, basado en un `mu` y un `sigma`, dónde `mu` es la media de los datos y `sigma` es la desviación estándar. \n",
    "\n",
    "Implementar la ecuación de normalización que pude ser consultada en https://en.wikipedia.org/wiki/Standard_deviation:\n",
    "\n",
    "> `y = exp( -0.5 * [ (x - mu) / sigma ]^2 ) / sqrt(2 * PI * sigma^2)`\n",
    "\n",
    "Crear la función `Normalizador(mu, sigma)` que devuelva una función *lambda* con la ecuación de normalización (*exp*, *pi* y *sqrt* están en la librería *math*)"
   ]
  },
  {
   "cell_type": "code",
   "execution_count": null,
   "metadata": {},
   "outputs": [],
   "source": []
  },
  {
   "cell_type": "code",
   "execution_count": null,
   "metadata": {},
   "outputs": [],
   "source": []
  },
  {
   "cell_type": "code",
   "execution_count": null,
   "metadata": {},
   "outputs": [],
   "source": []
  },
  {
   "cell_type": "code",
   "execution_count": null,
   "metadata": {},
   "outputs": [],
   "source": []
  }
 ],
 "metadata": {
  "kernelspec": {
   "display_name": "Python 3",
   "language": "python",
   "name": "python3"
  },
  "language_info": {
   "codemirror_mode": {
    "name": "ipython",
    "version": 3
   },
   "file_extension": ".py",
   "mimetype": "text/x-python",
   "name": "python",
   "nbconvert_exporter": "python",
   "pygments_lexer": "ipython3",
   "version": "3.7.1"
  }
 },
 "nbformat": 4,
 "nbformat_minor": 2
}
