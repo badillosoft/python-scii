{
 "cells": [
  {
   "cell_type": "markdown",
   "metadata": {},
   "source": [
    "# Proyecto A.4 - Simulador Estadístico\n",
    "\n",
    "Alan Badillo Salas (badillo.soft@hotmail.com)\n",
    "\n",
    "Basado en el reporte del `Proyecto A.0` crear un simulador estadístico que solicite la edad y raza(color de piel) de una persona y usando el teorema de bayes.\n",
    "\n",
    "Calcular/Simular:\n",
    "\n",
    "* Probabilidad de pertenecer a la categoría de la edad dada y ganar 50K+\n",
    "* Probabilidad de pertenecer a la categoría de la raza dada y ganar 50k+\n",
    "* Probabilidad de pertenecer a la categoría de la edad y raza dadas y ganar 50k+\n",
    "\n",
    "Documentación: https://es.wikipedia.org/wiki/Teorema_de_Bayes"
   ]
  }
 ],
 "metadata": {
  "kernelspec": {
   "display_name": "Python 3",
   "language": "python",
   "name": "python3"
  },
  "language_info": {
   "codemirror_mode": {
    "name": "ipython",
    "version": 3
   },
   "file_extension": ".py",
   "mimetype": "text/x-python",
   "name": "python",
   "nbconvert_exporter": "python",
   "pygments_lexer": "ipython3",
   "version": "3.7.3"
  }
 },
 "nbformat": 4,
 "nbformat_minor": 2
}
