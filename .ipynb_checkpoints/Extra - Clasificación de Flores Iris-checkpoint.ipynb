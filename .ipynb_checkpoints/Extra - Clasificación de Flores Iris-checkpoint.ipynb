{
 "cells": [
  {
   "cell_type": "markdown",
   "metadata": {},
   "source": [
    "# Clasificación de Flores Iris\n",
    "\n",
    "Alan Badillo Salas (badillo.soft@hotmail.com)\n",
    "\n",
    "Vamos a clasificar las flores iris basados en sus características extraídas como el ancho y alto del sépalo, el ancho y alto del pétalo. Para hacerlo usaremos el dataset de UCI [Machine Learning Datasets](https://archive.ics.uci.edu/ml/), en específico [Dataset Iris](https://archive.ics.uci.edu/ml/datasets/Iris).\n",
    "\n",
    "Las flores iris se clasifican en las familas `Vertiginosa`, `Versicolor` y `Virginica`."
   ]
  },
  {
   "cell_type": "markdown",
   "metadata": {},
   "source": [
    "## Paso 1 - Adquirir los datos para la clasificación\n",
    "\n",
    "Vamos a extraer los datos desde https://archive.ics.uci.edu/ml/machine-learning-databases/iris/iris.data\n",
    "\n",
    "Usaremos `pd.read_csv(...)` de pandas para extrar un *DataFrame* el cuál contenga las filas y columnas de datos con la información de nuestras muestras de entrenamiento de la flor iris."
   ]
  },
  {
   "cell_type": "code",
   "execution_count": 5,
   "metadata": {},
   "outputs": [
    {
     "data": {
      "text/html": [
       "<div>\n",
       "<style scoped>\n",
       "    .dataframe tbody tr th:only-of-type {\n",
       "        vertical-align: middle;\n",
       "    }\n",
       "\n",
       "    .dataframe tbody tr th {\n",
       "        vertical-align: top;\n",
       "    }\n",
       "\n",
       "    .dataframe thead th {\n",
       "        text-align: right;\n",
       "    }\n",
       "</style>\n",
       "<table border=\"1\" class=\"dataframe\">\n",
       "  <thead>\n",
       "    <tr style=\"text-align: right;\">\n",
       "      <th></th>\n",
       "      <th>Sepal-Length</th>\n",
       "      <th>Sepal-Width</th>\n",
       "      <th>Petal-Length</th>\n",
       "      <th>Petal-Width</th>\n",
       "      <th>Class</th>\n",
       "    </tr>\n",
       "  </thead>\n",
       "  <tbody>\n",
       "    <tr>\n",
       "      <th>0</th>\n",
       "      <td>5.1</td>\n",
       "      <td>3.5</td>\n",
       "      <td>1.4</td>\n",
       "      <td>0.2</td>\n",
       "      <td>Iris-setosa</td>\n",
       "    </tr>\n",
       "    <tr>\n",
       "      <th>1</th>\n",
       "      <td>4.9</td>\n",
       "      <td>3.0</td>\n",
       "      <td>1.4</td>\n",
       "      <td>0.2</td>\n",
       "      <td>Iris-setosa</td>\n",
       "    </tr>\n",
       "    <tr>\n",
       "      <th>2</th>\n",
       "      <td>4.7</td>\n",
       "      <td>3.2</td>\n",
       "      <td>1.3</td>\n",
       "      <td>0.2</td>\n",
       "      <td>Iris-setosa</td>\n",
       "    </tr>\n",
       "    <tr>\n",
       "      <th>3</th>\n",
       "      <td>4.6</td>\n",
       "      <td>3.1</td>\n",
       "      <td>1.5</td>\n",
       "      <td>0.2</td>\n",
       "      <td>Iris-setosa</td>\n",
       "    </tr>\n",
       "    <tr>\n",
       "      <th>4</th>\n",
       "      <td>5.0</td>\n",
       "      <td>3.6</td>\n",
       "      <td>1.4</td>\n",
       "      <td>0.2</td>\n",
       "      <td>Iris-setosa</td>\n",
       "    </tr>\n",
       "  </tbody>\n",
       "</table>\n",
       "</div>"
      ],
      "text/plain": [
       "   Sepal-Length  Sepal-Width  Petal-Length  Petal-Width        Class\n",
       "0           5.1          3.5           1.4          0.2  Iris-setosa\n",
       "1           4.9          3.0           1.4          0.2  Iris-setosa\n",
       "2           4.7          3.2           1.3          0.2  Iris-setosa\n",
       "3           4.6          3.1           1.5          0.2  Iris-setosa\n",
       "4           5.0          3.6           1.4          0.2  Iris-setosa"
      ]
     },
     "execution_count": 5,
     "metadata": {},
     "output_type": "execute_result"
    }
   ],
   "source": [
    "import pandas as pd\n",
    "\n",
    "# La url desde dónde se van extraer los datos\n",
    "url = \"https://archive.ics.uci.edu/ml/machine-learning-databases/iris/iris.data\"\n",
    "## url = \"iris.data\"\n",
    "\n",
    "# Definimos las columnas que serán utilizadas en el dataframe para entender los datos\n",
    "columns = [ \"Sepal-Length\", \"Sepal-Width\", \"Petal-Length\", \"Petal-Width\", \"Class\" ]\n",
    "\n",
    "# Leemos los datos indicando que los datos no traen cabeceras que describan cada columna\n",
    "data = pd.read_csv(url, header=None, names=columns)\n",
    "\n",
    "# Mostramos los primeros 5 datos\n",
    "data.head()"
   ]
  },
  {
   "cell_type": "markdown",
   "metadata": {},
   "source": [
    "## Paso 2 - Generamos la columna `Class-Cat` desde la columna `Class`\n",
    "\n",
    "Tomaremos los datos de la columna `Class` para convertir las categorías en números y poder manipular los datos eb un vector.\n",
    "\n",
    "Lo primero es determinar cuáles son las distintas categorías que aparecen en la columna `Class`."
   ]
  },
  {
   "cell_type": "code",
   "execution_count": 7,
   "metadata": {},
   "outputs": [
    {
     "data": {
      "text/plain": [
       "{'Iris-setosa', 'Iris-versicolor', 'Iris-virginica'}"
      ]
     },
     "execution_count": 7,
     "metadata": {},
     "output_type": "execute_result"
    }
   ],
   "source": [
    "# Mostramos el conjunto de valores distintos en la columna `Class`\n",
    "set(data[\"Class\"])"
   ]
  },
  {
   "cell_type": "markdown",
   "metadata": {},
   "source": [
    "Establecemos la columna `Class-Cat` a partir de la columna `Class`, dónde los valores serán el resultado de mapear los datos `{'Iris-setosa', 'Iris-versicolor', 'Iris-virginica'}` a números enteros."
   ]
  },
  {
   "cell_type": "code",
   "execution_count": 9,
   "metadata": {},
   "outputs": [
    {
     "data": {
      "text/html": [
       "<div>\n",
       "<style scoped>\n",
       "    .dataframe tbody tr th:only-of-type {\n",
       "        vertical-align: middle;\n",
       "    }\n",
       "\n",
       "    .dataframe tbody tr th {\n",
       "        vertical-align: top;\n",
       "    }\n",
       "\n",
       "    .dataframe thead th {\n",
       "        text-align: right;\n",
       "    }\n",
       "</style>\n",
       "<table border=\"1\" class=\"dataframe\">\n",
       "  <thead>\n",
       "    <tr style=\"text-align: right;\">\n",
       "      <th></th>\n",
       "      <th>Sepal-Length</th>\n",
       "      <th>Sepal-Width</th>\n",
       "      <th>Petal-Length</th>\n",
       "      <th>Petal-Width</th>\n",
       "      <th>Class</th>\n",
       "      <th>Class-Cat</th>\n",
       "    </tr>\n",
       "  </thead>\n",
       "  <tbody>\n",
       "    <tr>\n",
       "      <th>107</th>\n",
       "      <td>7.3</td>\n",
       "      <td>2.9</td>\n",
       "      <td>6.3</td>\n",
       "      <td>1.8</td>\n",
       "      <td>Iris-virginica</td>\n",
       "      <td>3</td>\n",
       "    </tr>\n",
       "    <tr>\n",
       "      <th>80</th>\n",
       "      <td>5.5</td>\n",
       "      <td>2.4</td>\n",
       "      <td>3.8</td>\n",
       "      <td>1.1</td>\n",
       "      <td>Iris-versicolor</td>\n",
       "      <td>2</td>\n",
       "    </tr>\n",
       "    <tr>\n",
       "      <th>98</th>\n",
       "      <td>5.1</td>\n",
       "      <td>2.5</td>\n",
       "      <td>3.0</td>\n",
       "      <td>1.1</td>\n",
       "      <td>Iris-versicolor</td>\n",
       "      <td>2</td>\n",
       "    </tr>\n",
       "    <tr>\n",
       "      <th>11</th>\n",
       "      <td>4.8</td>\n",
       "      <td>3.4</td>\n",
       "      <td>1.6</td>\n",
       "      <td>0.2</td>\n",
       "      <td>Iris-setosa</td>\n",
       "      <td>1</td>\n",
       "    </tr>\n",
       "    <tr>\n",
       "      <th>0</th>\n",
       "      <td>5.1</td>\n",
       "      <td>3.5</td>\n",
       "      <td>1.4</td>\n",
       "      <td>0.2</td>\n",
       "      <td>Iris-setosa</td>\n",
       "      <td>1</td>\n",
       "    </tr>\n",
       "  </tbody>\n",
       "</table>\n",
       "</div>"
      ],
      "text/plain": [
       "     Sepal-Length  Sepal-Width  Petal-Length  Petal-Width            Class  \\\n",
       "107           7.3          2.9           6.3          1.8   Iris-virginica   \n",
       "80            5.5          2.4           3.8          1.1  Iris-versicolor   \n",
       "98            5.1          2.5           3.0          1.1  Iris-versicolor   \n",
       "11            4.8          3.4           1.6          0.2      Iris-setosa   \n",
       "0             5.1          3.5           1.4          0.2      Iris-setosa   \n",
       "\n",
       "     Class-Cat  \n",
       "107          3  \n",
       "80           2  \n",
       "98           2  \n",
       "11           1  \n",
       "0            1  "
      ]
     },
     "execution_count": 9,
     "metadata": {},
     "output_type": "execute_result"
    }
   ],
   "source": [
    "# Creamos la columna `Class-Cat` como el mapeo de la columna `Class`\n",
    "# dónde el valor \"Iris-setosa\" se va a sustituir por 1\n",
    "# dónde el valor \"Iris-versicolor\" se va a sustituir por 2\n",
    "# dónde el valor \"Iris-virginica\" se va a sustituir por 3\n",
    "data[\"Class-Cat\"] = data[\"Class\"].map({\n",
    "    \"Iris-setosa\": 1,\n",
    "    \"Iris-versicolor\": 2,\n",
    "    \"Iris-virginica\": 3,\n",
    "})\n",
    "\n",
    "# Mostramos 5 datos aleatorios en nuestro dataframe\n",
    "data.sample(5)"
   ]
  },
  {
   "cell_type": "markdown",
   "metadata": {},
   "source": [
    "## Paso 3* - Aleatorizar los datos\n",
    "\n",
    "Antes de extraer cualquier dato del dataframe, debemos garantizar que estos estén distribuidos aleatoriamente, para que cuándo partamos los datos en `X_train`, `Y_train`, `X_test` y `Y_test` al `80%` y `20%` estos sean aleatorio pero diferentes (no se repetirá una muestra de `train` en `test`)."
   ]
  },
  {
   "cell_type": "code",
   "execution_count": 10,
   "metadata": {},
   "outputs": [
    {
     "data": {
      "text/html": [
       "<div>\n",
       "<style scoped>\n",
       "    .dataframe tbody tr th:only-of-type {\n",
       "        vertical-align: middle;\n",
       "    }\n",
       "\n",
       "    .dataframe tbody tr th {\n",
       "        vertical-align: top;\n",
       "    }\n",
       "\n",
       "    .dataframe thead th {\n",
       "        text-align: right;\n",
       "    }\n",
       "</style>\n",
       "<table border=\"1\" class=\"dataframe\">\n",
       "  <thead>\n",
       "    <tr style=\"text-align: right;\">\n",
       "      <th></th>\n",
       "      <th>Sepal-Length</th>\n",
       "      <th>Sepal-Width</th>\n",
       "      <th>Petal-Length</th>\n",
       "      <th>Petal-Width</th>\n",
       "      <th>Class</th>\n",
       "      <th>Class-Cat</th>\n",
       "    </tr>\n",
       "  </thead>\n",
       "  <tbody>\n",
       "    <tr>\n",
       "      <th>10</th>\n",
       "      <td>5.4</td>\n",
       "      <td>3.7</td>\n",
       "      <td>1.5</td>\n",
       "      <td>0.2</td>\n",
       "      <td>Iris-setosa</td>\n",
       "      <td>1</td>\n",
       "    </tr>\n",
       "    <tr>\n",
       "      <th>33</th>\n",
       "      <td>5.5</td>\n",
       "      <td>4.2</td>\n",
       "      <td>1.4</td>\n",
       "      <td>0.2</td>\n",
       "      <td>Iris-setosa</td>\n",
       "      <td>1</td>\n",
       "    </tr>\n",
       "    <tr>\n",
       "      <th>63</th>\n",
       "      <td>6.1</td>\n",
       "      <td>2.9</td>\n",
       "      <td>4.7</td>\n",
       "      <td>1.4</td>\n",
       "      <td>Iris-versicolor</td>\n",
       "      <td>2</td>\n",
       "    </tr>\n",
       "    <tr>\n",
       "      <th>88</th>\n",
       "      <td>5.6</td>\n",
       "      <td>3.0</td>\n",
       "      <td>4.1</td>\n",
       "      <td>1.3</td>\n",
       "      <td>Iris-versicolor</td>\n",
       "      <td>2</td>\n",
       "    </tr>\n",
       "    <tr>\n",
       "      <th>31</th>\n",
       "      <td>5.4</td>\n",
       "      <td>3.4</td>\n",
       "      <td>1.5</td>\n",
       "      <td>0.4</td>\n",
       "      <td>Iris-setosa</td>\n",
       "      <td>1</td>\n",
       "    </tr>\n",
       "  </tbody>\n",
       "</table>\n",
       "</div>"
      ],
      "text/plain": [
       "    Sepal-Length  Sepal-Width  Petal-Length  Petal-Width            Class  \\\n",
       "10           5.4          3.7           1.5          0.2      Iris-setosa   \n",
       "33           5.5          4.2           1.4          0.2      Iris-setosa   \n",
       "63           6.1          2.9           4.7          1.4  Iris-versicolor   \n",
       "88           5.6          3.0           4.1          1.3  Iris-versicolor   \n",
       "31           5.4          3.4           1.5          0.4      Iris-setosa   \n",
       "\n",
       "    Class-Cat  \n",
       "10          1  \n",
       "33          1  \n",
       "63          2  \n",
       "88          2  \n",
       "31          1  "
      ]
     },
     "execution_count": 10,
     "metadata": {},
     "output_type": "execute_result"
    }
   ],
   "source": [
    "# Tomanos un ejemplo aleatorio de todas las muestras\n",
    "data = data.sample(len(data))\n",
    "\n",
    "data.head()"
   ]
  },
  {
   "cell_type": "markdown",
   "metadata": {},
   "source": [
    "## Paso 4 - Partir las muestras en `Muestras de Entrenamiento` y `Muestras de Prueba`\n",
    "\n",
    "Antes de poder clasificar los datos debemos obtener el 80% de las muestras (quizás 90%) si se desea y construir la matriz (el subdataframe) que tenga las muestras para `X` y el vetor (la columna) que tenga las muestras para `Y`."
   ]
  },
  {
   "cell_type": "markdown",
   "metadata": {},
   "source": [
    "Formamos `X_train` a partir de las columnas `Sepal-Length, Sepal-Width, Petal-Length, Petal-Width` tomando las primeras 120 muestras (80% de los datos)."
   ]
  },
  {
   "cell_type": "code",
   "execution_count": 13,
   "metadata": {},
   "outputs": [
    {
     "name": "stdout",
     "output_type": "stream",
     "text": [
      "Se van a tomar 120 de un total de 150 (80.00%)\n"
     ]
    },
    {
     "data": {
      "text/html": [
       "<div>\n",
       "<style scoped>\n",
       "    .dataframe tbody tr th:only-of-type {\n",
       "        vertical-align: middle;\n",
       "    }\n",
       "\n",
       "    .dataframe tbody tr th {\n",
       "        vertical-align: top;\n",
       "    }\n",
       "\n",
       "    .dataframe thead th {\n",
       "        text-align: right;\n",
       "    }\n",
       "</style>\n",
       "<table border=\"1\" class=\"dataframe\">\n",
       "  <thead>\n",
       "    <tr style=\"text-align: right;\">\n",
       "      <th></th>\n",
       "      <th>Sepal-Length</th>\n",
       "      <th>Sepal-Width</th>\n",
       "      <th>Petal-Length</th>\n",
       "      <th>Petal-Width</th>\n",
       "    </tr>\n",
       "  </thead>\n",
       "  <tbody>\n",
       "    <tr>\n",
       "      <th>10</th>\n",
       "      <td>5.4</td>\n",
       "      <td>3.7</td>\n",
       "      <td>1.5</td>\n",
       "      <td>0.2</td>\n",
       "    </tr>\n",
       "    <tr>\n",
       "      <th>33</th>\n",
       "      <td>5.5</td>\n",
       "      <td>4.2</td>\n",
       "      <td>1.4</td>\n",
       "      <td>0.2</td>\n",
       "    </tr>\n",
       "    <tr>\n",
       "      <th>63</th>\n",
       "      <td>6.1</td>\n",
       "      <td>2.9</td>\n",
       "      <td>4.7</td>\n",
       "      <td>1.4</td>\n",
       "    </tr>\n",
       "    <tr>\n",
       "      <th>88</th>\n",
       "      <td>5.6</td>\n",
       "      <td>3.0</td>\n",
       "      <td>4.1</td>\n",
       "      <td>1.3</td>\n",
       "    </tr>\n",
       "    <tr>\n",
       "      <th>31</th>\n",
       "      <td>5.4</td>\n",
       "      <td>3.4</td>\n",
       "      <td>1.5</td>\n",
       "      <td>0.4</td>\n",
       "    </tr>\n",
       "  </tbody>\n",
       "</table>\n",
       "</div>"
      ],
      "text/plain": [
       "    Sepal-Length  Sepal-Width  Petal-Length  Petal-Width\n",
       "10           5.4          3.7           1.5          0.2\n",
       "33           5.5          4.2           1.4          0.2\n",
       "63           6.1          2.9           4.7          1.4\n",
       "88           5.6          3.0           4.1          1.3\n",
       "31           5.4          3.4           1.5          0.4"
      ]
     },
     "execution_count": 13,
     "metadata": {},
     "output_type": "execute_result"
    }
   ],
   "source": [
    "# Número total de muestras en nuestro dataframe\n",
    "N = len(data)\n",
    "\n",
    "# L - Es un entero que nos dice cuántas muestras tomar para el 80% de los datos\n",
    "L = int(0.8 * N)\n",
    "\n",
    "print(\"Se van a tomar {} de un total de {} ({:.2f}%) para hacer el entrenamiento\".format(L, N, 100 * L / N))\n",
    "\n",
    "# Formamos el sub-dataframe `X_train` sólo con el 80% y las columnas deseadas para el entrenamiento\n",
    "X_train = pd.DataFrame(data[0:L], columns=[\"Sepal-Length\", \"Sepal-Width\", \"Petal-Length\", \"Petal-Width\"])\n",
    "\n",
    "X_train.head()"
   ]
  },
  {
   "cell_type": "markdown",
   "metadata": {},
   "source": [
    "Para formar `Y_train` debemos recordar usar un vector (serie) en lugar de formar una matriz (sub-dataframe)"
   ]
  },
  {
   "cell_type": "code",
   "execution_count": 14,
   "metadata": {},
   "outputs": [
    {
     "data": {
      "text/plain": [
       "10    1\n",
       "33    1\n",
       "63    2\n",
       "88    2\n",
       "31    1\n",
       "Name: Class-Cat, dtype: int64"
      ]
     },
     "execution_count": 14,
     "metadata": {},
     "output_type": "execute_result"
    }
   ],
   "source": [
    "# Formamos el vector (la Serie) `Y_train` con los primero `L` valores de la columna `Class-Cat`\n",
    "Y_train = data[\"Class-Cat\"][0:L]\n",
    "\n",
    "# Mostramos los primeros 5 valores del vector\n",
    "Y_train[0:5]"
   ]
  },
  {
   "cell_type": "markdown",
   "metadata": {},
   "source": [
    "## Paso 5 - Crear un clasificador sobre `X_train` y `Y_train`\n",
    "\n",
    "Podemos proponer un clasificador `SVC`, `MLPClassifier`, `SGDClassifier`, etc.\n",
    "\n",
    "La idea es crear el clasificador y ajustarlo a las muestras de entrenamiento X_train` y `Y_train`."
   ]
  },
  {
   "cell_type": "code",
   "execution_count": 15,
   "metadata": {},
   "outputs": [
    {
     "name": "stderr",
     "output_type": "stream",
     "text": [
      "C:\\ProgramData\\Anaconda2\\lib\\site-packages\\sklearn\\svm\\base.py:196: FutureWarning: The default value of gamma will change from 'auto' to 'scale' in version 0.22 to account better for unscaled features. Set gamma explicitly to 'auto' or 'scale' to avoid this warning.\n",
      "  \"avoid this warning.\", FutureWarning)\n"
     ]
    },
    {
     "data": {
      "text/plain": [
       "SVC(C=1.0, cache_size=200, class_weight=None, coef0=0.0,\n",
       "  decision_function_shape='ovr', degree=3, gamma='auto_deprecated',\n",
       "  kernel='rbf', max_iter=-1, probability=False, random_state=None,\n",
       "  shrinking=True, tol=0.001, verbose=False)"
      ]
     },
     "execution_count": 15,
     "metadata": {},
     "output_type": "execute_result"
    }
   ],
   "source": [
    "from sklearn.svm import SVC\n",
    "\n",
    "clf = SVC()\n",
    "\n",
    "clf.fit(X_train, Y_train)"
   ]
  },
  {
   "cell_type": "markdown",
   "metadata": {},
   "source": [
    "Una vez ajustado (entrenado) el clasificador ya puede predecir muestras"
   ]
  },
  {
   "cell_type": "code",
   "execution_count": 16,
   "metadata": {},
   "outputs": [
    {
     "data": {
      "text/plain": [
       "array([3, 3], dtype=int64)"
      ]
     },
     "execution_count": 16,
     "metadata": {},
     "output_type": "execute_result"
    }
   ],
   "source": [
    "clf.predict([\n",
    "    [1, 2, 1.5, 2.4], # Muestra de prueba 1\n",
    "    [5, 3, 6, 1],     # Muestra de prueba 2\n",
    "])"
   ]
  },
  {
   "cell_type": "markdown",
   "metadata": {},
   "source": [
    "## Paso 6 - Utilizar el 20% restante de muestras para ver que tan bien entranado quedó el clasificador\n",
    "\n",
    "Vamos a validar cuántos aciertos/errores tiene nuestro clasificador sobre el 20% de las muestras reales con las que no se entrenó (que desconoce).\n",
    "\n",
    "Lo primero será generar la matrix (sub-dataframe) de prueba `X_test` y el vector (serie) de prueba `Y_test`."
   ]
  },
  {
   "cell_type": "code",
   "execution_count": 20,
   "metadata": {},
   "outputs": [
    {
     "name": "stdout",
     "output_type": "stream",
     "text": [
      "Se van a tomar 30 de un total de 150 (20.00%) para hacer la validación\n"
     ]
    },
    {
     "data": {
      "text/html": [
       "<div>\n",
       "<style scoped>\n",
       "    .dataframe tbody tr th:only-of-type {\n",
       "        vertical-align: middle;\n",
       "    }\n",
       "\n",
       "    .dataframe tbody tr th {\n",
       "        vertical-align: top;\n",
       "    }\n",
       "\n",
       "    .dataframe thead th {\n",
       "        text-align: right;\n",
       "    }\n",
       "</style>\n",
       "<table border=\"1\" class=\"dataframe\">\n",
       "  <thead>\n",
       "    <tr style=\"text-align: right;\">\n",
       "      <th></th>\n",
       "      <th>Sepal-Length</th>\n",
       "      <th>Sepal-Width</th>\n",
       "      <th>Petal-Length</th>\n",
       "      <th>Petal-Width</th>\n",
       "    </tr>\n",
       "  </thead>\n",
       "  <tbody>\n",
       "    <tr>\n",
       "      <th>56</th>\n",
       "      <td>6.3</td>\n",
       "      <td>3.3</td>\n",
       "      <td>4.7</td>\n",
       "      <td>1.6</td>\n",
       "    </tr>\n",
       "    <tr>\n",
       "      <th>127</th>\n",
       "      <td>6.1</td>\n",
       "      <td>3.0</td>\n",
       "      <td>4.9</td>\n",
       "      <td>1.8</td>\n",
       "    </tr>\n",
       "    <tr>\n",
       "      <th>42</th>\n",
       "      <td>4.4</td>\n",
       "      <td>3.2</td>\n",
       "      <td>1.3</td>\n",
       "      <td>0.2</td>\n",
       "    </tr>\n",
       "    <tr>\n",
       "      <th>96</th>\n",
       "      <td>5.7</td>\n",
       "      <td>2.9</td>\n",
       "      <td>4.2</td>\n",
       "      <td>1.3</td>\n",
       "    </tr>\n",
       "    <tr>\n",
       "      <th>41</th>\n",
       "      <td>4.5</td>\n",
       "      <td>2.3</td>\n",
       "      <td>1.3</td>\n",
       "      <td>0.3</td>\n",
       "    </tr>\n",
       "  </tbody>\n",
       "</table>\n",
       "</div>"
      ],
      "text/plain": [
       "     Sepal-Length  Sepal-Width  Petal-Length  Petal-Width\n",
       "56            6.3          3.3           4.7          1.6\n",
       "127           6.1          3.0           4.9          1.8\n",
       "42            4.4          3.2           1.3          0.2\n",
       "96            5.7          2.9           4.2          1.3\n",
       "41            4.5          2.3           1.3          0.3"
      ]
     },
     "execution_count": 20,
     "metadata": {},
     "output_type": "execute_result"
    }
   ],
   "source": [
    "print(\"Se van a tomar {} de un total de {} ({:.2f}%) para hacer la validación\".format(N - L, N, 100 * (N - L) / N))\n",
    "\n",
    "# Construimos `X_test` mediante las restantes `L-N` muestras, es decir, del índice `L` al último índice `N-1`\n",
    "X_test = pd.DataFrame(data[L:N], columns=[\"Sepal-Length\", \"Sepal-Width\", \"Petal-Length\", \"Petal-Width\"])\n",
    "\n",
    "X_test.head()"
   ]
  },
  {
   "cell_type": "code",
   "execution_count": 21,
   "metadata": {},
   "outputs": [
    {
     "data": {
      "text/plain": [
       "56     2\n",
       "127    3\n",
       "42     1\n",
       "96     2\n",
       "41     1\n",
       "Name: Class-Cat, dtype: int64"
      ]
     },
     "execution_count": 21,
     "metadata": {},
     "output_type": "execute_result"
    }
   ],
   "source": [
    "# Formamos el vector (serie) `Y_test` con los restantes `N-L` datos de la columna `Class-Cat`\n",
    "Y_test = data[\"Class-Cat\"][L:N]\n",
    "\n",
    "Y_test[0:5]"
   ]
  },
  {
   "cell_type": "markdown",
   "metadata": {},
   "source": [
    "> Para hacer las pruebas de validación, por cada ejemplo de prueba deberemos generar una prediccón, la cuál podremos comparar contra los datos reales. Es decir, Dado `X_test` predecimos `Y_predict` y lo comparamos con `Y_test`, contando cuántos `Y_predict` son iguales/distintos a los `Y_test`."
   ]
  },
  {
   "cell_type": "code",
   "execution_count": 25,
   "metadata": {},
   "outputs": [
    {
     "name": "stdout",
     "output_type": "stream",
     "text": [
      "Fallaron 1 de 30 pruebas (3% error / 97% correcto)\n"
     ]
    }
   ],
   "source": [
    "Y_predict = clf.predict(X_test)\n",
    "\n",
    "K = len(Y_test)\n",
    "\n",
    "# Creamos un vector de diferencias absolutas, el cuál contenga 0 si no hay diferencia\n",
    "# entre la i-ésima predicción y la i-ésima prueba\n",
    "# para cada i-prueba\n",
    "diferencias = [ abs(Y_predict[i] - Y_test.iloc[i]) for i in range(K) ]\n",
    "\n",
    "incorrectos = sum(diferencias)\n",
    "correctos = K - incorrectos\n",
    "\n",
    "error = 100 * incorrectos / K\n",
    "bien = 100 - error\n",
    "\n",
    "print(\"Fallaron {} de {} pruebas ({}% error / {}% correcto)\".format(incorrectos, K, error, bien))"
   ]
  }
 ],
 "metadata": {
  "kernelspec": {
   "display_name": "Python 2",
   "language": "python",
   "name": "python2"
  },
  "language_info": {
   "codemirror_mode": {
    "name": "ipython",
    "version": 2
   },
   "file_extension": ".py",
   "mimetype": "text/x-python",
   "name": "python",
   "nbconvert_exporter": "python",
   "pygments_lexer": "ipython2",
   "version": "2.7.15"
  }
 },
 "nbformat": 4,
 "nbformat_minor": 2
}
