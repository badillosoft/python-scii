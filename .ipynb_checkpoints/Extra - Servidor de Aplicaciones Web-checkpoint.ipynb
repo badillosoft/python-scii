{
 "cells": [
  {
   "cell_type": "markdown",
   "metadata": {},
   "source": [
    "# Servidor de Aplicaciones Web\n",
    "\n",
    "Alan Badillo Salas (badillo.soft@hotmail.com)\n",
    "\n",
    "Vamos a utilizar la librerías [Flask](http://flask.pocoo.org) para montar un servidor de aplicaciones web y servicios API REST.\n",
    "\n",
    "Un servidor provee recursos a través de un protocolo específico en este caso HTTP utilizando las URL y los métodos `GET`, `POST`, `PUT`, etc.\n",
    "\n",
    "La finalidad de un servidor es convertir una computadora en un proveedor de recursos para ofrecerle a los clientes archivos HTML, archivos en general, información XML, JSON, etc.\n",
    "\n",
    "Para montar un servidor debemos hacer lo siguiente."
   ]
  },
  {
   "cell_type": "code",
   "execution_count": 2,
   "metadata": {},
   "outputs": [
    {
     "name": "stdout",
     "output_type": "stream",
     "text": [
      " * Serving Flask app \"__main__\" (lazy loading)\n",
      " * Environment: production\n",
      "   WARNING: Do not use the development server in a production environment.\n",
      "   Use a production WSGI server instead.\n",
      " * Debug mode: off\n"
     ]
    },
    {
     "name": "stderr",
     "output_type": "stream",
     "text": [
      " * Running on http://127.0.0.1:5000/ (Press CTRL+C to quit)\n",
      "127.0.0.1 - - [25/May/2019 10:42:52] \"GET / HTTP/1.1\" 200 -\n",
      "127.0.0.1 - - [25/May/2019 10:42:52] \"GET /favicon.ico HTTP/1.1\" 404 -\n"
     ]
    }
   ],
   "source": [
    "from flask import Flask\n",
    "\n",
    "# Construimos el servidor `app`\n",
    "app = Flask(__name__)\n",
    "\n",
    "# Configuramos la ruta \"/\" para que cada que un cliente visite dicha ruta\n",
    "# el servidor le ofrezca como recurso un texto que diga \"Hola soy un servidor\"\n",
    "@app.route(\"/\")\n",
    "def home():\n",
    "    return \"Hola soy un servidor\"\n",
    "\n",
    "# Iniciamos el servidor en el puerto por defecto\n",
    "# para ver los resultados visita http://localhost:5000\n",
    "app.run()"
   ]
  },
  {
   "cell_type": "markdown",
   "metadata": {},
   "source": [
    "## Proveer una plantilla HTML para una aplicación web\n",
    "\n",
    "Imaginemos que queremos proveer una interfaz web (HTML) al visitar cierta ruta para lanzar una encuesta o alguna cosa."
   ]
  },
  {
   "cell_type": "code",
   "execution_count": 3,
   "metadata": {},
   "outputs": [
    {
     "name": "stdout",
     "output_type": "stream",
     "text": [
      " * Serving Flask app \"__main__\" (lazy loading)\n",
      " * Environment: production\n",
      "   WARNING: Do not use the development server in a production environment.\n",
      "   Use a production WSGI server instead.\n",
      " * Debug mode: off\n"
     ]
    },
    {
     "name": "stderr",
     "output_type": "stream",
     "text": [
      " * Running on http://127.0.0.1:5000/ (Press CTRL+C to quit)\n",
      "127.0.0.1 - - [25/May/2019 10:46:29] \"GET / HTTP/1.1\" 200 -\n",
      "127.0.0.1 - - [25/May/2019 10:46:38] \"GET /encuesta HTTP/1.1\" 200 -\n"
     ]
    }
   ],
   "source": [
    "from flask import Flask\n",
    "\n",
    "app = Flask(__name__)\n",
    "\n",
    "@app.route(\"/\")\n",
    "def home():\n",
    "    return \"Hola soy un servidor\"\n",
    "\n",
    "# Definimos otra ruta \"/encuesta\" para que cuándo el usuario la visite\n",
    "# el servidor le devuelva una interfaz HTML\n",
    "@app.route(\"/encuesta\")\n",
    "def encuesta():\n",
    "    return '''\n",
    "        <form>\n",
    "            <legend>Ingresa el nombre</legend>\n",
    "            <input placeholder=\"Nombre\">\n",
    "            <legend>Ingresa la edad</legend>\n",
    "            <input type=\"number\" placeholder=\"Edad\">\n",
    "        </form>\n",
    "    '''\n",
    "\n",
    "app.run()"
   ]
  },
  {
   "cell_type": "markdown",
   "metadata": {},
   "source": [
    "## Controlar los datos de un formulario"
   ]
  },
  {
   "cell_type": "code",
   "execution_count": 6,
   "metadata": {},
   "outputs": [
    {
     "name": "stdout",
     "output_type": "stream",
     "text": [
      " * Serving Flask app \"__main__\" (lazy loading)\n",
      " * Environment: production\n",
      "   WARNING: Do not use the development server in a production environment.\n",
      "   Use a production WSGI server instead.\n",
      " * Debug mode: off\n"
     ]
    },
    {
     "name": "stderr",
     "output_type": "stream",
     "text": [
      " * Running on http://127.0.0.1:5000/ (Press CTRL+C to quit)\n",
      "127.0.0.1 - - [25/May/2019 10:53:54] \"GET /encuesta/recibir? HTTP/1.1\" 200 -\n",
      "127.0.0.1 - - [25/May/2019 10:53:57] \"GET /encuesta HTTP/1.1\" 200 -\n",
      "127.0.0.1 - - [25/May/2019 10:54:02] \"GET /encuesta/recibir?nombre=alan&edad=123 HTTP/1.1\" 200 -\n"
     ]
    }
   ],
   "source": [
    "from flask import Flask\n",
    "from flask import request\n",
    "\n",
    "app = Flask(__name__)\n",
    "\n",
    "@app.route(\"/\")\n",
    "def home():\n",
    "    return \"Hola soy un servidor\"\n",
    "\n",
    "# Modificamos la interfaz para que los datos del formulario nos los envie\n",
    "# a la ruta \"/encuesta/recibir\" y poder procesarlos ahí\n",
    "@app.route(\"/encuesta\")\n",
    "def encuesta():\n",
    "    return '''\n",
    "        <form method=\"GET\" action=\"/encuesta/recibir\">\n",
    "            <legend>Ingresa el nombre</legend>\n",
    "            <input name=\"nombre\" placeholder=\"Nombre\">\n",
    "            <legend>Ingresa la edad</legend>\n",
    "            <input name=\"edad\" type=\"number\" placeholder=\"Edad\">\n",
    "            <input type=\"submit\">\n",
    "        </form>\n",
    "    '''\n",
    "\n",
    "@app.route(\"/encuesta/recibir\")\n",
    "def encuesta_recibir():\n",
    "    nombre = request.args.get(\"nombre\", \"Anónimo\")\n",
    "    edad = int(request.args.get(\"edad\", \"18\"))\n",
    "    \n",
    "    return \"Se recibió el formulario con {} nombre y {} edad\".format(nombre, edad)\n",
    "\n",
    "app.run()"
   ]
  },
  {
   "cell_type": "markdown",
   "metadata": {},
   "source": [
    "## Cargar la interfaz desde un archivo html físico\n",
    "\n",
    "Crear la carpeta `templates` y en ella el archivo `home.html`."
   ]
  },
  {
   "cell_type": "code",
   "execution_count": null,
   "metadata": {},
   "outputs": [
    {
     "name": "stdout",
     "output_type": "stream",
     "text": [
      " * Serving Flask app \"__main__\" (lazy loading)\n",
      " * Environment: production\n",
      "   WARNING: Do not use the development server in a production environment.\n",
      "   Use a production WSGI server instead.\n",
      " * Debug mode: off\n"
     ]
    },
    {
     "name": "stderr",
     "output_type": "stream",
     "text": [
      " * Running on http://127.0.0.1:5000/ (Press CTRL+C to quit)\n",
      "127.0.0.1 - - [25/May/2019 11:03:53] \"GET / HTTP/1.1\" 200 -\n",
      "127.0.0.1 - - [25/May/2019 11:03:54] \"GET / HTTP/1.1\" 200 -\n",
      "127.0.0.1 - - [25/May/2019 11:03:54] \"GET / HTTP/1.1\" 200 -\n"
     ]
    }
   ],
   "source": [
    "from flask import Flask\n",
    "from flask import render_template\n",
    "\n",
    "app = Flask(__name__)\n",
    "\n",
    "# Usamos render_template(...) para enviar el archivo `home.html`\n",
    "# en lugar del HTML en un string\n",
    "@app.route(\"/\")\n",
    "def home():\n",
    "    return render_template(\"home.html\")\n",
    "\n",
    "app.run()"
   ]
  },
  {
   "cell_type": "code",
   "execution_count": null,
   "metadata": {},
   "outputs": [],
   "source": []
  }
 ],
 "metadata": {
  "kernelspec": {
   "display_name": "Python 2",
   "language": "python",
   "name": "python2"
  },
  "language_info": {
   "codemirror_mode": {
    "name": "ipython",
    "version": 2
   },
   "file_extension": ".py",
   "mimetype": "text/x-python",
   "name": "python",
   "nbconvert_exporter": "python",
   "pygments_lexer": "ipython2",
   "version": "2.7.15"
  }
 },
 "nbformat": 4,
 "nbformat_minor": 2
}
