{
 "cells": [
  {
   "cell_type": "markdown",
   "metadata": {},
   "source": [
    "# Programación Paralela\n",
    "\n",
    "Alan Badillo Salas (badillo.soft@hotmail.com)\n",
    "\n",
    "Los hilos en python son procesos independientes del proceso principal, que se ejecutan en \"paralelo\" para poder ejecutar diversas tareas al mismo tiempo. Para poder crear un proceso en paralelo debemos definir una función que resuelva una tarea, esta función tomará sus argumentos y resolverá la tarea al mandarla a llamar, sin embargo, mediante la clase `Thread` de la librería `threading` podemos invocar a la función en un proceso independiente (un hilo) al mismo tiempo que llamamos a la misma función u otras funciones en hilos independientes.\n",
    "\n",
    "Imagina por ejemplo, un escenario, dónde tengamos que descargar archivos desde internet, y quisieramos que estos se descarguen al mismo tiempo en hilos distintos, lo que haríamos entonces, sería definir una función que reciba la url del archivo a descargar, quizás también el nombre del archivo a crear y dicha función debería ir a la url, traer el archivo, escribirlo en disco y finalmente finalizar con un estatus exitoso o fallido. Entonces, podemos mandar a llamar a esa función que descarga el archivo cuántas veces queramos en paralelo, para que mientras descarga un archivo, en otro hilo mandemos a descargar otro archivo sin esperar a que el primero finalice.\n",
    "\n",
    "> **Nota:** Crear más hilos que los núcleos del CPU podría provocar bajar el rendimiento del programa y crear un efecto de lack de procesamiento por tener que atender a tantos hilos con tan pocos núcleos procesadores."
   ]
  },
  {
   "cell_type": "markdown",
   "metadata": {},
   "source": [
    "## Ejemplo 1 - Contador paralelo\n",
    "\n",
    "El siguiente programa define un contador en paralelo que incrementa una variable que se accede globalmente, luego espera 10 segundos y muestra el valor de la variable.\n",
    "\n",
    "Observa que la función utiliza `global n` para poder modificar la variable que no pertenece a la función. También nota que `threading.Thread(...)` llama a la función objetivo creando los hilos `t` e iniciándolos en paralelo. Finalmente el atributo `args = (parámetro1, parámetro2, ...)` define la tupla de parámetros que serán envíados a la función objetivo.\n",
    "\n",
    "La función recibirá como parámetro su nombre y mostrará el valor actual de `n`, luego incrementará `n` una unidad, esperará 10 segundos y mostrará nuevamente el valor de `n`."
   ]
  },
  {
   "cell_type": "code",
   "execution_count": 16,
   "metadata": {},
   "outputs": [
    {
     "name": "stdout",
     "output_type": "stream",
     "text": [
      "Inicio: Soy el hilo H-0 y n = 0\n",
      "Inicio: Soy el hilo H-1 y n = 0H-0: Esperando 10 segundos...\n",
      "\n",
      "H-1: Esperando 10 segundos...\n",
      "Inicio: Soy el hilo H-2 y n = 2\n",
      "H-2: Esperando 10 segundos...\n",
      "Inicio: Soy el hilo H-3 y n = 3\n",
      "H-3: Esperando 10 segundos...\n",
      "Inicio: Soy el hilo H-4 y n = 4\n",
      "H-4: Esperando 10 segundos...\n",
      "Inicio: Soy el hilo H-5 y n = 5\n",
      "H-5: Esperando 10 segundos...\n",
      "Inicio: Soy el hilo H-6 y n = 6\n",
      "H-6: Esperando 10 segundos...\n",
      "Inicio: Soy el hilo H-7 y n = 7\n",
      "H-7: Esperando 10 segundos...\n",
      "Inicio: Soy el hilo H-8 y n = 8\n",
      "H-8: Esperando 10 segundos...\n",
      "Inicio: Soy el hilo H-9 y n = 8\n",
      "H-9: Esperando 10 segundos...\n",
      "Pasado 10 segundo: Soy el hilo H-0 y n = 10\n",
      "Pasado 10 segundo: Soy el hilo H-1 y n = 10\n",
      "Pasado 10 segundo: Soy el hilo H-2 y n = 10\n",
      "Pasado 10 segundo: Soy el hilo H-3 y n = 10\n",
      "Pasado 10 segundo: Soy el hilo H-4 y n = 10\n",
      "Pasado 10 segundo: Soy el hilo H-5 y n = 10\n",
      "Pasado 10 segundo: Soy el hilo H-6 y n = 10\n",
      "Pasado 10 segundo: Soy el hilo H-7 y n = 10\n",
      "Pasado 10 segundo: Soy el hilo H-8 y n = 10\n",
      "Pasado 10 segundo: Soy el hilo H-9 y n = 10\n"
     ]
    }
   ],
   "source": [
    "import threading\n",
    "import time\n",
    "\n",
    "n = 0\n",
    "\n",
    "def contador(nombre):\n",
    "    global n\n",
    "    print(\"Inicio: Soy el hilo {} y n = {}\".format(nombre, n))\n",
    "    print(\"{}: Esperando 10 segundos...\".format(nombre))\n",
    "    n += 1\n",
    "    time.sleep(10)\n",
    "    print(\"Pasado 10 segundo: Soy el hilo {} y n = {}\".format(nombre, n))\n",
    "    \n",
    "for i in range(10):\n",
    "    t = threading.Thread(target = contador, args = (\"H-{}\".format(i), )) # 1-tupla (*, ) NO-TUPLA: (*)\n",
    "    t.start()"
   ]
  },
  {
   "cell_type": "markdown",
   "metadata": {},
   "source": [
    "## Ejemplo 2 - Contador de tiempo variable\n",
    "\n",
    "En está variación haremos que el contador espere `10 - i` segundos en finalizar. Así el primer hilo esperará 10 segundos antes de finalizar, el segundo hilo esperará 9 segundos, y así sucesivamente. También haremos el incremento pasando los `10 - i` segundos."
   ]
  },
  {
   "cell_type": "code",
   "execution_count": 17,
   "metadata": {},
   "outputs": [
    {
     "name": "stdout",
     "output_type": "stream",
     "text": [
      "Inicio: Soy el hilo H-0 y n = 0 \n",
      "H-0: Esperando 10 segundos...\n",
      "Inicio: Soy el hilo H-1 y n = 0\n",
      "H-1: Esperando 9 segundos...\n",
      "Inicio: Soy el hilo H-2 y n = 0\n",
      "H-2: Esperando 8 segundos... \n",
      "Inicio: Soy el hilo H-3 y n = 0\n",
      "H-3: Esperando 7 segundos...\n",
      "Inicio: Soy el hilo H-4 y n = 0\n",
      "H-4: Esperando 6 segundos...\n",
      "Inicio: Soy el hilo H-5 y n = 0\n",
      "H-5: Esperando 5 segundos...\n",
      "Inicio: Soy el hilo H-6 y n = 0\n",
      "H-6: Esperando 4 segundos...\n",
      "Inicio: Soy el hilo H-7 y n = 0\n",
      "H-7: Esperando 3 segundos...\n",
      "Inicio: Soy el hilo H-8 y n = 0\n",
      "H-8: Esperando 2 segundos...\n",
      "Inicio: Soy el hilo H-9 y n = 0\n",
      "H-9: Esperando 1 segundos...\n",
      "Pasado 1 segundo: Soy el hilo H-9 y n = 1\n",
      "Pasado 2 segundo: Soy el hilo H-8 y n = 2\n",
      "Pasado 3 segundo: Soy el hilo H-7 y n = 3\n",
      "Pasado 4 segundo: Soy el hilo H-6 y n = 4\n",
      "Pasado 5 segundo: Soy el hilo H-5 y n = 5\n",
      "Pasado 6 segundo: Soy el hilo H-4 y n = 6\n",
      "Pasado 7 segundo: Soy el hilo H-3 y n = 7\n",
      "Pasado 8 segundo: Soy el hilo H-2 y n = 8\n",
      "Pasado 9 segundo: Soy el hilo H-1 y n = 9\n",
      "Pasado 10 segundo: Soy el hilo H-0 y n = 10\n"
     ]
    }
   ],
   "source": [
    "import threading\n",
    "import time\n",
    "\n",
    "n = 0\n",
    "\n",
    "def contador(nombre, i):\n",
    "    global n\n",
    "    print(\"Inicio: Soy el hilo {} y n = {}\".format(nombre, n))\n",
    "    print(\"{}: Esperando {} segundos...\".format(nombre, 10 - i))\n",
    "    time.sleep(10 - i)\n",
    "    n += 1\n",
    "    print(\"Pasado {} segundo: Soy el hilo {} y n = {}\".format(10 - i, nombre, n))\n",
    "    \n",
    "for i in range(10):\n",
    "    t = threading.Thread(target = contador, args = (\"H-{}\".format(i), i))\n",
    "    t.start()"
   ]
  },
  {
   "cell_type": "markdown",
   "metadata": {},
   "source": [
    "## Ejemplo 3 - Buscador sincronizado\n",
    "\n",
    "En este último ejemplo veremos algo no tan trivial. Supongamos que tenemos una lista muy grande de archivos de textos (en este ejemplo supondremos que ya tenemos los archivos de texto cargados, pero simularemos en la función que toma algún tiempo aleatorio abrirlos). De dicha lista de archivos queremos saber si alguno contiene alguna palabra que nos interesa buscar. La función recibirá el número de clúster (suponiendo que hay 4 procesadores y 4 clústers) y recorrerá cada archivo en la lista múltiplo de su clúster, mientras no encuentre la palabra o no acabe la lista, continuará buscando."
   ]
  },
  {
   "cell_type": "code",
   "execution_count": 24,
   "metadata": {},
   "outputs": [
    {
     "name": "stdout",
     "output_type": "stream",
     "text": [
      "Palabra Una encontrada por el cluster 2 en el proceso 6\n",
      "Palabra Una encontrada por el cluster 3 en el proceso 7\n",
      "Palabra Una encontrada por el cluster 0 en el proceso 8\n",
      "Palabra Una encontrada por el cluster 1 en el proceso 5\n",
      "Palabra Una encontrada por el cluster 2 en el proceso 10\n",
      "Palabra Una encontrada por el cluster 3 en el proceso 11\n",
      "Palabra Una encontrada por el cluster 1 en el proceso 9\n",
      "Palabra Una encontrada por el cluster 0 en el proceso 12\n",
      "['Una tarde triste', 'Una tarde calida', 'Una tarde magica', 'Una tarde tranquila', 'Una noche fresca', 'Una noche emotiva', 'Una noche bella', 'Una noche romantica']\n"
     ]
    }
   ],
   "source": [
    "import threading\n",
    "import time\n",
    "import random\n",
    "\n",
    "archivos = [\n",
    "    \"Un dia soleado\",\n",
    "    \"Un dia caluroso\",\n",
    "    \"Un dia despejado\",\n",
    "    \"Un dia frio\",\n",
    "    \"Un dia seco\",\n",
    "    \"Una tarde tranquila\",\n",
    "    \"Una tarde triste\",\n",
    "    \"Una tarde calida\",\n",
    "    \"Una tarde magica\",\n",
    "    \"Una noche bella\",\n",
    "    \"Una noche fresca\",\n",
    "    \"Una noche emotiva\",\n",
    "    \"Una noche romantica\",\n",
    "]\n",
    "\n",
    "encontrados = []\n",
    "\n",
    "def buscar(palabra, cluster, clusters):\n",
    "    # Empieza en el cluster, hasta el número de archivos\n",
    "    # y avanza la cantidad de cluster\n",
    "    # Ejemplo: cluster: 1, clusters: 8, archivos: 100\n",
    "    # range(1, 100, 8) => 1, 9, 17, 25, 33, ...\n",
    "    # Ejemplo: cluster: 2, clusters: 8, archivos: 100\n",
    "    # range(2, 100, 8) => 2, 10, 18, 26, 34, ...\n",
    "    for i in range(cluster, len(archivos), clusters):\n",
    "        # Simulamos que tardamos un tiempo aleatorio hasta 3 segundos en recuperar el texto\n",
    "        time.sleep(random.random() * 3)\n",
    "        # Recuperamos el texto del archivo\n",
    "        texto = archivos[i]\n",
    "        # Obtenemos el índice de la palabra en el texto\n",
    "        indice = texto.find(palabra)\n",
    "        # Checamos si el índice es positivo\n",
    "        if indice >= 0:\n",
    "            # Agregamos el texto a los archivos encontrados\n",
    "            print(\"Palabra {} encontrada por el cluster {} en el proceso {}\".format(palabra, cluster, i))\n",
    "            encontrados.append(texto)\n",
    "    \n",
    "threads = []\n",
    "    \n",
    "for cluster in range(4):\n",
    "    t = threading.Thread(target = buscar, args = (\"Una\", cluster, 4))\n",
    "    t.start()\n",
    "    threads.append(t)\n",
    "    \n",
    "# Sicronizamos los hilos para esperar a que todos acaben\n",
    "for t in threads:\n",
    "    t.join()\n",
    "    \n",
    "# En este momento los hilos ya finalizaron\n",
    "print(encontrados)"
   ]
  }
 ],
 "metadata": {
  "kernelspec": {
   "display_name": "Python 2",
   "language": "python",
   "name": "python2"
  },
  "language_info": {
   "codemirror_mode": {
    "name": "ipython",
    "version": 2
   },
   "file_extension": ".py",
   "mimetype": "text/x-python",
   "name": "python",
   "nbconvert_exporter": "python",
   "pygments_lexer": "ipython2",
   "version": "2.7.15"
  }
 },
 "nbformat": 4,
 "nbformat_minor": 2
}
