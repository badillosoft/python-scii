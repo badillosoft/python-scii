{
 "cells": [
  {
   "cell_type": "markdown",
   "metadata": {},
   "source": [
    "# Proyecto A.3 - Reporte Web\n",
    "\n",
    "Alan Badillo Salas (badillo.soft@hotmail.com)\n",
    "\n",
    "Basado en el reporte del `Proyecto A.0` crear un reporte Web usando `Flask`. Cada reporte ponerlo en una url `/reporte/edad/tabla` que muestre los datos del reporte `edad` y la url `/reporte/edad/graficas` las cuáles deben mostrar respectivamente la tabla de datos en HTML, y las gráficas de pie y barras en PNG.\n",
    "\n",
    "Documentación: http://flask.pocoo.org\n",
    "\n",
    "https://technovechno.com/creating-graphs-in-python-using-matplotlib-flask-framework-pythonanywhere/"
   ]
  },
  {
   "cell_type": "code",
   "execution_count": null,
   "metadata": {},
   "outputs": [],
   "source": [
    "!pip install flask"
   ]
  }
 ],
 "metadata": {
  "kernelspec": {
   "display_name": "Python 3",
   "language": "python",
   "name": "python3"
  },
  "language_info": {
   "codemirror_mode": {
    "name": "ipython",
    "version": 3
   },
   "file_extension": ".py",
   "mimetype": "text/x-python",
   "name": "python",
   "nbconvert_exporter": "python",
   "pygments_lexer": "ipython3",
   "version": "3.7.3"
  }
 },
 "nbformat": 4,
 "nbformat_minor": 2
}
